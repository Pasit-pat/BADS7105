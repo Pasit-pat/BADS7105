{
 "cells": [
  {
   "cell_type": "code",
   "execution_count": 3,
   "metadata": {},
   "outputs": [],
   "source": [
    "import pandas as pd\n",
    "\n",
    "df = pd.read_csv(r\"C:\\Users\\ziriu\\OneDrive\\Documents\\GitHub\\BADS7105\\Homework 1\\Raw Data\\RAW1.csv\")"
   ]
  },
  {
   "cell_type": "code",
   "execution_count": 5,
   "metadata": {},
   "outputs": [
    {
     "data": {
      "text/html": [
       "<div>\n",
       "<style scoped>\n",
       "    .dataframe tbody tr th:only-of-type {\n",
       "        vertical-align: middle;\n",
       "    }\n",
       "\n",
       "    .dataframe tbody tr th {\n",
       "        vertical-align: top;\n",
       "    }\n",
       "\n",
       "    .dataframe thead th {\n",
       "        text-align: right;\n",
       "    }\n",
       "</style>\n",
       "<table border=\"1\" class=\"dataframe\">\n",
       "  <thead>\n",
       "    <tr style=\"text-align: right;\">\n",
       "      <th></th>\n",
       "      <th>Timestamp</th>\n",
       "      <th>คุณมีความสนใจในสิ่งเหล่านี้มากน้อยเพียงใด [อาหารญี่ปุ่น]</th>\n",
       "      <th>คุณมีความสนใจในสิ่งเหล่านี้มากน้อยเพียงใด [อาหารจึน]</th>\n",
       "      <th>คุณมีความสนใจในสิ่งเหล่านี้มากน้อยเพียงใด [อาหารไทย]</th>\n",
       "      <th>คุณมีความสนใจในสิ่งเหล่านี้มากน้อยเพียงใด [อาหารอีสาน]</th>\n",
       "      <th>คุณมีความสนใจในสิ่งเหล่านี้มากน้อยเพียงใด [อาหารสุขภาพ]</th>\n",
       "      <th>คุณมีความสนใจในสิ่งเหล่านี้มากน้อยเพียงใด [บุฟเฟต์]</th>\n",
       "      <th>คุณมีความสนใจในสิ่งเหล่านี้มากน้อยเพียงใด [ชาบูชาบู]</th>\n",
       "      <th>คุณมีความสนใจในสิ่งเหล่านี้มากน้อยเพียงใด [ปิ้งย่าง]</th>\n",
       "      <th>คุณมีความสนใจในสิ่งเหล่านี้มากน้อยเพียงใด [เหล้าเบียร์]</th>\n",
       "      <th>...</th>\n",
       "      <th>คุณบริโภคสิ่งเหล่านี้บ่อยขนาดไหน [Content เกี่ยวกับการท่องเที่ยว]</th>\n",
       "      <th>คุณบริโภคสิ่งเหล่านี้บ่อยขนาดไหน [Content เกี่ยวกับการแต่งบ้าน]</th>\n",
       "      <th>คุณบริโภคสิ่งเหล่านี้บ่อยขนาดไหน [Content เกี่ยวกับการโทรทัศน์]</th>\n",
       "      <th>คุณบริโภคสิ่งเหล่านี้บ่อยขนาดไหน [Content เกี่ยวกับละคร]</th>\n",
       "      <th>คุณบริโภคสิ่งเหล่านี้บ่อยขนาดไหน [Content เกี่ยวกับการเมือง]</th>\n",
       "      <th>นอกเหนือจากรายการดังกล่าวแล้ว คุณมีความสนใจในเรื่องใดอีกบ้าง</th>\n",
       "      <th>คุณเกิดวันที่เท่าไหร่</th>\n",
       "      <th>อายุ</th>\n",
       "      <th>ช่วยอายุ</th>\n",
       "      <th>เพศ</th>\n",
       "    </tr>\n",
       "  </thead>\n",
       "  <tbody>\n",
       "    <tr>\n",
       "      <th>0</th>\n",
       "      <td>1/9/2021 10:07:27</td>\n",
       "      <td>สนใจ</td>\n",
       "      <td>สนใจ</td>\n",
       "      <td>สนใจอย่างมากที่สุด</td>\n",
       "      <td>สนใจอย่างมาก</td>\n",
       "      <td>สนใจ</td>\n",
       "      <td>สนใจ</td>\n",
       "      <td>สนใจ</td>\n",
       "      <td>สนใจ</td>\n",
       "      <td>สนใจอย่างมากที่สุด</td>\n",
       "      <td>...</td>\n",
       "      <td>เดือนละ 2-3 ครั้ง</td>\n",
       "      <td>เดือนละ 2-3 ครั้ง</td>\n",
       "      <td>เดือนละ 2-3 ครั้ง</td>\n",
       "      <td>เดือนละ 2-3 ครั้ง</td>\n",
       "      <td>แทบทุกวัน</td>\n",
       "      <td>กีฬา UFC, Soccer</td>\n",
       "      <td>9/19/1988</td>\n",
       "      <td>32</td>\n",
       "      <td>31-40</td>\n",
       "      <td>ชาย</td>\n",
       "    </tr>\n",
       "    <tr>\n",
       "      <th>1</th>\n",
       "      <td>1/9/2021 10:07:34</td>\n",
       "      <td>สนใจอย่างมาก</td>\n",
       "      <td>เฉยๆ</td>\n",
       "      <td>สนใจอย่างมากที่สุด</td>\n",
       "      <td>สนใจอย่างมาก</td>\n",
       "      <td>สนใจ</td>\n",
       "      <td>สนใจอย่างมาก</td>\n",
       "      <td>สนใจอย่างมากที่สุด</td>\n",
       "      <td>สนใจอย่างมาก</td>\n",
       "      <td>ไม่สนใจ</td>\n",
       "      <td>...</td>\n",
       "      <td>แทบทุกวัน</td>\n",
       "      <td>อาทิตย์ละครั้ง</td>\n",
       "      <td>หลายเดือนครั้ง</td>\n",
       "      <td>หลายเดือนครั้ง</td>\n",
       "      <td>อาทิตย์ละครั้ง</td>\n",
       "      <td>กีฬา สัตว์เลี้ยง เทคโนโลยี</td>\n",
       "      <td>8/10/2536</td>\n",
       "      <td>27</td>\n",
       "      <td>21-30</td>\n",
       "      <td>หญิง</td>\n",
       "    </tr>\n",
       "    <tr>\n",
       "      <th>2</th>\n",
       "      <td>1/9/2021 10:07:36</td>\n",
       "      <td>สนใจอย่างมากที่สุด</td>\n",
       "      <td>เฉยๆ</td>\n",
       "      <td>สนใจอย่างมาก</td>\n",
       "      <td>สนใจ</td>\n",
       "      <td>เฉยๆ</td>\n",
       "      <td>สนใจอย่างมากที่สุด</td>\n",
       "      <td>สนใจอย่างมากที่สุด</td>\n",
       "      <td>สนใจอย่างมากที่สุด</td>\n",
       "      <td>ไม่สนใจอย่างมาก</td>\n",
       "      <td>...</td>\n",
       "      <td>เดือนละ 2-3 ครั้ง</td>\n",
       "      <td>เดือนละ 2-3 ครั้ง</td>\n",
       "      <td>เดือนละ 2-3 ครั้ง</td>\n",
       "      <td>หลายเดือนครั้ง</td>\n",
       "      <td>แทบทุกวัน</td>\n",
       "      <td>-</td>\n",
       "      <td>11/7/1993</td>\n",
       "      <td>27</td>\n",
       "      <td>21-30</td>\n",
       "      <td>ชาย</td>\n",
       "    </tr>\n",
       "    <tr>\n",
       "      <th>3</th>\n",
       "      <td>1/9/2021 10:07:36</td>\n",
       "      <td>สนใจ</td>\n",
       "      <td>เฉยๆ</td>\n",
       "      <td>เฉยๆ</td>\n",
       "      <td>เฉยๆ</td>\n",
       "      <td>สนใจ</td>\n",
       "      <td>สนใจ</td>\n",
       "      <td>สนใจ</td>\n",
       "      <td>สนใจ</td>\n",
       "      <td>ไม่สนใจอย่างมากที่สุด</td>\n",
       "      <td>...</td>\n",
       "      <td>เดือนละครั้ง</td>\n",
       "      <td>แทบไม่ได้บริโภคเลย</td>\n",
       "      <td>แทบไม่ได้บริโภคเลย</td>\n",
       "      <td>แทบไม่ได้บริโภคเลย</td>\n",
       "      <td>เดือนละ 2-3 ครั้ง</td>\n",
       "      <td>โหราศาสตร์,ดูดวง</td>\n",
       "      <td>4/14/1994</td>\n",
       "      <td>26</td>\n",
       "      <td>21-30</td>\n",
       "      <td>ชาย</td>\n",
       "    </tr>\n",
       "    <tr>\n",
       "      <th>4</th>\n",
       "      <td>1/9/2021 10:07:42</td>\n",
       "      <td>สนใจอย่างมาก</td>\n",
       "      <td>สนใจ</td>\n",
       "      <td>สนใจ</td>\n",
       "      <td>สนใจ</td>\n",
       "      <td>สนใจอย่างมากที่สุด</td>\n",
       "      <td>เฉยๆ</td>\n",
       "      <td>เฉยๆ</td>\n",
       "      <td>เฉยๆ</td>\n",
       "      <td>เฉยๆ</td>\n",
       "      <td>...</td>\n",
       "      <td>เดือนละ 2-3 ครั้ง</td>\n",
       "      <td>เดือนละครั้ง</td>\n",
       "      <td>แทบไม่ได้บริโภคเลย</td>\n",
       "      <td>แทบไม่ได้บริโภคเลย</td>\n",
       "      <td>เดือนละ 2-3 ครั้ง</td>\n",
       "      <td>สัตว์เลี้ยง</td>\n",
       "      <td>4/19/1995</td>\n",
       "      <td>25</td>\n",
       "      <td>21-30</td>\n",
       "      <td>หญิง</td>\n",
       "    </tr>\n",
       "  </tbody>\n",
       "</table>\n",
       "<p>5 rows × 66 columns</p>\n",
       "</div>"
      ],
      "text/plain": [
       "           Timestamp คุณมีความสนใจในสิ่งเหล่านี้มากน้อยเพียงใด [อาหารญี่ปุ่น]  \\\n",
       "0  1/9/2021 10:07:27                                               สนใจ         \n",
       "1  1/9/2021 10:07:34                                       สนใจอย่างมาก         \n",
       "2  1/9/2021 10:07:36                                 สนใจอย่างมากที่สุด         \n",
       "3  1/9/2021 10:07:36                                               สนใจ         \n",
       "4  1/9/2021 10:07:42                                       สนใจอย่างมาก         \n",
       "\n",
       "  คุณมีความสนใจในสิ่งเหล่านี้มากน้อยเพียงใด [อาหารจึน]  \\\n",
       "0                                               สนใจ     \n",
       "1                                               เฉยๆ     \n",
       "2                                               เฉยๆ     \n",
       "3                                               เฉยๆ     \n",
       "4                                               สนใจ     \n",
       "\n",
       "  คุณมีความสนใจในสิ่งเหล่านี้มากน้อยเพียงใด [อาหารไทย]  \\\n",
       "0                                 สนใจอย่างมากที่สุด     \n",
       "1                                 สนใจอย่างมากที่สุด     \n",
       "2                                       สนใจอย่างมาก     \n",
       "3                                               เฉยๆ     \n",
       "4                                               สนใจ     \n",
       "\n",
       "  คุณมีความสนใจในสิ่งเหล่านี้มากน้อยเพียงใด [อาหารอีสาน]  \\\n",
       "0                                       สนใจอย่างมาก       \n",
       "1                                       สนใจอย่างมาก       \n",
       "2                                               สนใจ       \n",
       "3                                               เฉยๆ       \n",
       "4                                               สนใจ       \n",
       "\n",
       "  คุณมีความสนใจในสิ่งเหล่านี้มากน้อยเพียงใด [อาหารสุขภาพ]  \\\n",
       "0                                               สนใจ        \n",
       "1                                               สนใจ        \n",
       "2                                               เฉยๆ        \n",
       "3                                               สนใจ        \n",
       "4                                 สนใจอย่างมากที่สุด        \n",
       "\n",
       "  คุณมีความสนใจในสิ่งเหล่านี้มากน้อยเพียงใด [บุฟเฟต์]  \\\n",
       "0                                               สนใจ    \n",
       "1                                       สนใจอย่างมาก    \n",
       "2                                 สนใจอย่างมากที่สุด    \n",
       "3                                               สนใจ    \n",
       "4                                               เฉยๆ    \n",
       "\n",
       "  คุณมีความสนใจในสิ่งเหล่านี้มากน้อยเพียงใด [ชาบูชาบู]  \\\n",
       "0                                               สนใจ     \n",
       "1                                 สนใจอย่างมากที่สุด     \n",
       "2                                 สนใจอย่างมากที่สุด     \n",
       "3                                               สนใจ     \n",
       "4                                               เฉยๆ     \n",
       "\n",
       "  คุณมีความสนใจในสิ่งเหล่านี้มากน้อยเพียงใด [ปิ้งย่าง]  \\\n",
       "0                                               สนใจ     \n",
       "1                                       สนใจอย่างมาก     \n",
       "2                                 สนใจอย่างมากที่สุด     \n",
       "3                                               สนใจ     \n",
       "4                                               เฉยๆ     \n",
       "\n",
       "  คุณมีความสนใจในสิ่งเหล่านี้มากน้อยเพียงใด [เหล้าเบียร์]  ...  \\\n",
       "0                                 สนใจอย่างมากที่สุด       ...   \n",
       "1                                            ไม่สนใจ       ...   \n",
       "2                                    ไม่สนใจอย่างมาก       ...   \n",
       "3                              ไม่สนใจอย่างมากที่สุด       ...   \n",
       "4                                               เฉยๆ       ...   \n",
       "\n",
       "  คุณบริโภคสิ่งเหล่านี้บ่อยขนาดไหน [Content เกี่ยวกับการท่องเที่ยว]  \\\n",
       "0                                  เดือนละ 2-3 ครั้ง                  \n",
       "1                                          แทบทุกวัน                  \n",
       "2                                  เดือนละ 2-3 ครั้ง                  \n",
       "3                                       เดือนละครั้ง                  \n",
       "4                                  เดือนละ 2-3 ครั้ง                  \n",
       "\n",
       "  คุณบริโภคสิ่งเหล่านี้บ่อยขนาดไหน [Content เกี่ยวกับการแต่งบ้าน]  \\\n",
       "0                                  เดือนละ 2-3 ครั้ง                \n",
       "1                                     อาทิตย์ละครั้ง                \n",
       "2                                  เดือนละ 2-3 ครั้ง                \n",
       "3                                 แทบไม่ได้บริโภคเลย                \n",
       "4                                       เดือนละครั้ง                \n",
       "\n",
       "  คุณบริโภคสิ่งเหล่านี้บ่อยขนาดไหน [Content เกี่ยวกับการโทรทัศน์]  \\\n",
       "0                                  เดือนละ 2-3 ครั้ง                \n",
       "1                                     หลายเดือนครั้ง                \n",
       "2                                  เดือนละ 2-3 ครั้ง                \n",
       "3                                 แทบไม่ได้บริโภคเลย                \n",
       "4                                 แทบไม่ได้บริโภคเลย                \n",
       "\n",
       "  คุณบริโภคสิ่งเหล่านี้บ่อยขนาดไหน [Content เกี่ยวกับละคร]  \\\n",
       "0                                  เดือนละ 2-3 ครั้ง         \n",
       "1                                     หลายเดือนครั้ง         \n",
       "2                                     หลายเดือนครั้ง         \n",
       "3                                 แทบไม่ได้บริโภคเลย         \n",
       "4                                 แทบไม่ได้บริโภคเลย         \n",
       "\n",
       "  คุณบริโภคสิ่งเหล่านี้บ่อยขนาดไหน [Content เกี่ยวกับการเมือง]  \\\n",
       "0                                          แทบทุกวัน             \n",
       "1                                     อาทิตย์ละครั้ง             \n",
       "2                                          แทบทุกวัน             \n",
       "3                                  เดือนละ 2-3 ครั้ง             \n",
       "4                                  เดือนละ 2-3 ครั้ง             \n",
       "\n",
       "  นอกเหนือจากรายการดังกล่าวแล้ว คุณมีความสนใจในเรื่องใดอีกบ้าง  \\\n",
       "0                                   กีฬา UFC, Soccer             \n",
       "1                         กีฬา สัตว์เลี้ยง เทคโนโลยี             \n",
       "2                                                  -             \n",
       "3                                   โหราศาสตร์,ดูดวง             \n",
       "4                                        สัตว์เลี้ยง             \n",
       "\n",
       "  คุณเกิดวันที่เท่าไหร่ อายุ ช่วยอายุ   เพศ  \n",
       "0             9/19/1988   32    31-40   ชาย  \n",
       "1             8/10/2536   27    21-30  หญิง  \n",
       "2             11/7/1993   27    21-30   ชาย  \n",
       "3             4/14/1994   26    21-30   ชาย  \n",
       "4             4/19/1995   25    21-30  หญิง  \n",
       "\n",
       "[5 rows x 66 columns]"
      ]
     },
     "execution_count": 5,
     "metadata": {},
     "output_type": "execute_result"
    }
   ],
   "source": [
    "df.head()"
   ]
  },
  {
   "cell_type": "code",
   "execution_count": 6,
   "metadata": {},
   "outputs": [
    {
     "data": {
      "text/plain": [
       "(63, 66)"
      ]
     },
     "execution_count": 6,
     "metadata": {},
     "output_type": "execute_result"
    }
   ],
   "source": [
    "df.shape"
   ]
  },
  {
   "cell_type": "code",
   "execution_count": 7,
   "metadata": {},
   "outputs": [
    {
     "data": {
      "text/plain": [
       "สนใจอย่างมากที่สุด    25\n",
       "สนใจอย่างมาก          21\n",
       "สนใจ                  14\n",
       "เฉยๆ                   3\n",
       "Name: คุณมีความสนใจในสิ่งเหล่านี้มากน้อยเพียงใด [อาหารญี่ปุ่น], dtype: int64"
      ]
     },
     "execution_count": 7,
     "metadata": {},
     "output_type": "execute_result"
    }
   ],
   "source": [
    "df['คุณมีความสนใจในสิ่งเหล่านี้มากน้อยเพียงใด [อาหารญี่ปุ่น]'].value_counts()"
   ]
  },
  {
   "cell_type": "code",
   "execution_count": 9,
   "metadata": {},
   "outputs": [
    {
     "data": {
      "text/plain": [
       "สนใจ                     0.317460\n",
       "เฉยๆ                     0.301587\n",
       "สนใจอย่างมาก             0.190476\n",
       "ไม่สนใจ                  0.095238\n",
       "สนใจอย่างมากที่สุด       0.063492\n",
       "ไม่สนใจอย่างมากที่สุด    0.015873\n",
       "ไม่สนใจอย่างมาก          0.015873\n",
       "Name: คุณมีความสนใจในสิ่งเหล่านี้มากน้อยเพียงใด [อาหารจึน], dtype: float64"
      ]
     },
     "execution_count": 9,
     "metadata": {},
     "output_type": "execute_result"
    }
   ],
   "source": [
    "df['คุณมีความสนใจในสิ่งเหล่านี้มากน้อยเพียงใด [อาหารจึน]'].value_counts(normalize=True)"
   ]
  },
  {
   "cell_type": "code",
   "execution_count": 10,
   "metadata": {},
   "outputs": [],
   "source": [
    "%matplotlib inline"
   ]
  },
  {
   "cell_type": "code",
   "execution_count": 12,
   "metadata": {},
   "outputs": [
    {
     "data": {
      "text/plain": [
       "<AxesSubplot:>"
      ]
     },
     "execution_count": 12,
     "metadata": {},
     "output_type": "execute_result"
    },
    {
     "data": {
      "image/png": "[encoded data removed]",
      "text/plain": [
       "<Figure size 432x288 with 1 Axes>"
      ]
     },
     "metadata": {
      "needs_background": "light"
     },
     "output_type": "display_data"
    }
   ],
   "source": [
    "df['ช่วยอายุ'].value_counts().plot(kind=\"bar\")"
   ]
  },
  {
   "cell_type": "code",
   "execution_count": 13,
   "metadata": {},
   "outputs": [
    {
     "data": {
      "text/plain": [
       "<AxesSubplot:>"
      ]
     },
     "execution_count": 13,
     "metadata": {},
     "output_type": "execute_result"
    },
    {
     "data": {
      "image/png": "[encoded data removed]",
      "text/plain": [
       "<Figure size 1080x504 with 1 Axes>"
      ]
     },
     "metadata": {
      "needs_background": "light"
     },
     "output_type": "display_data"
    }
   ],
   "source": [
    "df['อายุ'].value_counts().plot(kind=\"bar\", figsize=(15,7), color=\"#61d199\")"
   ]
  },
  {
   "cell_type": "code",
   "execution_count": null,
   "metadata": {},
   "outputs": [],
   "source": []
  }
 ],
 "metadata": {
  "kernelspec": {
   "display_name": "Python 3",
   "language": "python",
   "name": "python3"
  },
  "language_info": {
   "codemirror_mode": {
    "name": "ipython",
    "version": 3
   },
   "file_extension": ".py",
   "mimetype": "text/x-python",
   "name": "python",
   "nbconvert_exporter": "python",
   "pygments_lexer": "ipython3",
   "version": "3.8.5"
  }
 },
 "nbformat": 4,
 "nbformat_minor": 4
}
